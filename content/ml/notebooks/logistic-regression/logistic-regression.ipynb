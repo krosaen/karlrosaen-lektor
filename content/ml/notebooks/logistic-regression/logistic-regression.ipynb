{
 "cells": [
  {
   "cell_type": "markdown",
   "metadata": {},
   "source": [
    "## Logistic Regression\n",
    "\n",
    "\n",
    "Logistic regression aims to fit the following equation to a dataset:\n",
    "\n",
    "$$J(\\mathbf{w}) = \\sum_{i=1}^{m} - y^{(i)} log \\bigg( \\phi\\big(z^{(i)}\\big) \\bigg) - \\big(1 - y^{(i)}\\big) log\\bigg(1-\\phi\\big(z^{(i)}\\big)\\bigg).$$\n",
    "\n",
    "Where \n",
    "\n",
    "$$\\phi(z) = \\frac{1}{1 + e^{-z}}$$\n",
    "\n",
    "$\\phi(z)$ is called the \"sigmoid\" function.\n",
    "\n",
    "### What's with the sigmoid?\n",
    "\n",
    "Start with the odds ratio: $\\frac{p}{1-p}$, where $p$ is the probability of an event occuring. We get from here to the sigmoid by taking the log of the odds and calculating the inverse. We can calculate the inverse by swapping y and x and solving for y:\n",
    "\n",
    "$y = log(\\frac{x}{1-x})$\n",
    "<br>$x = log(\\frac{y}{1-y})$\n",
    "<br>$e^x = \\frac{y}{1-y}$\n",
    "<br>$y = (1-y)*e^x$\n",
    "<br>$y = e^x - y*e^x$\n",
    "<br>$y + ye^x = e^x$\n",
    "<br>$y*(1 + e^x) = e^x$\n",
    "<br>$y = \\frac{e^x}{1+e^x}$\n",
    "<br>$y = \\frac{1}{\\frac{1}{e^x} + 1}$\n",
    "<br>$y = \\frac{1}{1 + e^{-x}}$\n",
    "\n",
    "And there we have our sigmoid function.\n"
   ]
  }
 ],
 "metadata": {
  "kernelspec": {
   "display_name": "Python 3",
   "language": "python",
   "name": "python3"
  },
  "language_info": {
   "codemirror_mode": {
    "name": "ipython",
    "version": 3
   },
   "file_extension": ".py",
   "mimetype": "text/x-python",
   "name": "python",
   "nbconvert_exporter": "python",
   "pygments_lexer": "ipython3",
   "version": "3.4.4"
  }
 },
 "nbformat": 4,
 "nbformat_minor": 0
}
