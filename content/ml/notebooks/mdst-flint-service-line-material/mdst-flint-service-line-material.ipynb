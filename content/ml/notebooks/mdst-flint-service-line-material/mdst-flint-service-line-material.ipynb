{
 "cells": [
  {
   "cell_type": "markdown",
   "metadata": {},
   "source": [
    "# MDST Flint Project 7: Predicting whether service line material is lead\n",
    "\n",
    "\n",
    "**Task**: Predicting whether service line material is lead. There is uncertainty in the type of service line materials, and usually there are two different service lines, public and private service lines. There are few houses where we know the material of service lines. It is two binary classification problem. Which may be correlated with each other. \n",
    "- Private Service line material is Lead or it is not Lead\n",
    "- Public Service line material is Lead or it is not Lead\n",
    "\n",
    "**Data**: Residential water testing data, parcel data.\n",
    "\n",
    "**Questions**:\n",
    "\n",
    "- What features are correlated with the public/private service line materials? \n",
    "- With how much accuracy we can predict whether public/private service line material is lead? \n",
    "- Is there any correlation between the material of public and private service line? \n",
    "- What we know about lead construction laws over time and can it help us in building a predictive model? \n",
    "- Quantify the amount of uncertainty in your predictions.\n",
    "\n"
   ]
  },
  {
   "cell_type": "markdown",
   "metadata": {},
   "source": [
    "## Loading in the data\n",
    "\n",
    "We've captured the data from the mongo db instance into a local csv file\n",
    "\n",
    "\n",
    "```\n",
    "# UM-FLINT\n",
    "\n",
    "# Ask someone on the mdst slack for these :)\n",
    "IP = '' \n",
    "USER = ''\n",
    "PWD = ''\n",
    "\n",
    "import pymongo\n",
    "from pymongo import MongoClient\n",
    "import pandas as pd\n",
    "\n",
    "with MongoClient(IP, 27017) as client:\n",
    "    client.flint.authenticate(USER, PWD, mechanism='SCRAM-SHA-1')\n",
    "    db = client.flint\n",
    "    df = pd.DataFrame(list(db.proc_parcel_resi.find()))\n",
    "    df.to_csv('data.csv')\n",
    "```\n",
    "\n",
    "public records\n",
    "\n",
    "SL_LEAD: lead or not\n",
    "SL_TYPE: private service line material\n",
    "SL_TYPE_II: public service line material\n",
    "\n",
    "in addition we have 180 high quality samples (dug up and tested).\n",
    "\n",
    "now lets load it into a dataframe."
   ]
  },
  {
   "cell_type": "code",
   "execution_count": 1,
   "metadata": {
    "collapsed": true
   },
   "outputs": [],
   "source": [
    "import pandas as pd\n"
   ]
  },
  {
   "cell_type": "code",
   "execution_count": 2,
   "metadata": {
    "collapsed": false
   },
   "outputs": [
    {
     "name": "stderr",
     "output_type": "stream",
     "text": [
      "/Users/krosaen/anaconda3/lib/python3.5/site-packages/IPython/core/interactiveshell.py:2723: DtypeWarning: Columns (46) have mixed types. Specify dtype option on import or set low_memory=False.\n",
      "  interactivity=interactivity, compiler=compiler, result=result)\n"
     ]
    }
   ],
   "source": [
    "df1 = pd.read_csv('data.csv')\n"
   ]
  },
  {
   "cell_type": "code",
   "execution_count": 3,
   "metadata": {
    "collapsed": false
   },
   "outputs": [
    {
     "data": {
      "text/plain": [
       "(22637, 65)"
      ]
     },
     "execution_count": 3,
     "metadata": {},
     "output_type": "execute_result"
    }
   ],
   "source": [
    "df1.shape"
   ]
  },
  {
   "cell_type": "code",
   "execution_count": 4,
   "metadata": {
    "collapsed": false
   },
   "outputs": [
    {
     "data": {
      "text/plain": [
       "Index(['Unnamed: 0', 'Analysis (Copper)', 'Analysis (Lead)',\n",
       "       'Building Storeys', 'CENBLOCK', 'CENTRACT', 'City',\n",
       "       'Commercial Building Value', 'Commercial Condition 2013',\n",
       "       'Copper (ppb)', 'DRAFT Zone', 'Date Submitted', 'Future Landuse',\n",
       "       'HomeSEV', 'Homestead', 'Homestead Percent', 'Housing Condition 2012',\n",
       "       'Housing Condition 2014', 'Hydrant Type', 'Land Improvements Value',\n",
       "       'Land Value', 'Latitude', 'Lead (ppb)', 'Longitude', 'Old Prop class',\n",
       "       'Owner Address', 'Owner City', 'Owner Country', 'Owner Name',\n",
       "       'Owner State', 'Owner Type', 'Owner Zip Code', 'PID Dash',\n",
       "       'PID no Dash', 'PIDdash', 'PRECINCT', 'Parcel Acres', 'Prop Class',\n",
       "       'Property Address', 'Property Zip Code', 'Rental',\n",
       "       'Residential Building Style', 'Residential Building Value', 'SL_Lead',\n",
       "       'SL_Type', 'SL_Type2', 'Street #', 'Street Name', 'Tax Payer Address',\n",
       "       'Tax Payer Name', 'Tax Payer State', 'Tax Payer Zip Code',\n",
       "       'USPS Vacancy', 'Use Type', 'Ward', 'Year Built', 'Zip Code', 'Zoning',\n",
       "       '_id', 'full_add', 'goog_address', 'google_add', 'lat', 'lng',\n",
       "       'sample_num'],\n",
       "      dtype='object')"
      ]
     },
     "execution_count": 4,
     "metadata": {},
     "output_type": "execute_result"
    }
   ],
   "source": [
    "df1.columns"
   ]
  },
  {
   "cell_type": "code",
   "execution_count": 5,
   "metadata": {
    "collapsed": true
   },
   "outputs": [],
   "source": [
    "df2 = pd.read_csv('fast_start_public_sl.csv')"
   ]
  },
  {
   "cell_type": "code",
   "execution_count": 6,
   "metadata": {
    "collapsed": false
   },
   "outputs": [
    {
     "data": {
      "text/plain": [
       "(288, 3)"
      ]
     },
     "execution_count": 6,
     "metadata": {},
     "output_type": "execute_result"
    }
   ],
   "source": [
    "df2.shape"
   ]
  },
  {
   "cell_type": "code",
   "execution_count": 7,
   "metadata": {
    "collapsed": false
   },
   "outputs": [
    {
     "data": {
      "text/html": [
       "<div>\n",
       "<table border=\"1\" class=\"dataframe\">\n",
       "  <thead>\n",
       "    <tr style=\"text-align: right;\">\n",
       "      <th></th>\n",
       "      <th>pid</th>\n",
       "      <th>sl_private_type</th>\n",
       "      <th>sl_public_type</th>\n",
       "    </tr>\n",
       "  </thead>\n",
       "  <tbody>\n",
       "    <tr>\n",
       "      <th>0</th>\n",
       "      <td>4.014487e+09</td>\n",
       "      <td>Galvanized</td>\n",
       "      <td>Lead</td>\n",
       "    </tr>\n",
       "    <tr>\n",
       "      <th>1</th>\n",
       "      <td>4.105129e+09</td>\n",
       "      <td>Plastic</td>\n",
       "      <td>Lead</td>\n",
       "    </tr>\n",
       "  </tbody>\n",
       "</table>\n",
       "</div>"
      ],
      "text/plain": [
       "            pid sl_private_type sl_public_type\n",
       "0  4.014487e+09      Galvanized           Lead\n",
       "1  4.105129e+09         Plastic           Lead"
      ]
     },
     "execution_count": 7,
     "metadata": {},
     "output_type": "execute_result"
    }
   ],
   "source": [
    "df2.head(2)"
   ]
  },
  {
   "cell_type": "code",
   "execution_count": 8,
   "metadata": {
    "collapsed": false
   },
   "outputs": [
    {
     "data": {
      "text/plain": [
       "Lead      224\n",
       "Copper     26\n",
       "Name: sl_public_type, dtype: int64"
      ]
     },
     "execution_count": 8,
     "metadata": {},
     "output_type": "execute_result"
    }
   ],
   "source": [
    "df2['sl_public_type'].value_counts()"
   ]
  },
  {
   "cell_type": "code",
   "execution_count": 9,
   "metadata": {
    "collapsed": false
   },
   "outputs": [
    {
     "data": {
      "text/plain": [
       "Copper                   145\n",
       "Galvanized                79\n",
       "Lead                      20\n",
       "Copper and galvanized      1\n",
       "Plastic                    1\n",
       "Name: sl_private_type, dtype: int64"
      ]
     },
     "execution_count": 9,
     "metadata": {},
     "output_type": "execute_result"
    }
   ],
   "source": [
    "df2['sl_private_type'].value_counts()"
   ]
  },
  {
   "cell_type": "code",
   "execution_count": 10,
   "metadata": {
    "collapsed": true
   },
   "outputs": [],
   "source": [
    "df3 = pd.read_csv('parcel_geo_sl_reduced.csv')"
   ]
  },
  {
   "cell_type": "code",
   "execution_count": 11,
   "metadata": {
    "collapsed": false
   },
   "outputs": [
    {
     "data": {
      "text/plain": [
       "(55893, 36)"
      ]
     },
     "execution_count": 11,
     "metadata": {},
     "output_type": "execute_result"
    }
   ],
   "source": [
    "df3.shape"
   ]
  },
  {
   "cell_type": "code",
   "execution_count": 12,
   "metadata": {
    "collapsed": false
   },
   "outputs": [
    {
     "data": {
      "text/plain": [
       "Index(['PID no Dash', 'Property Zip Code', 'Owner Type', 'Owner State',\n",
       "       'Homestead', 'Homestead Percent', 'HomeSEV', 'Land Value',\n",
       "       'Land Improvements Value', 'Residential Building Value',\n",
       "       'Residential Building Style', 'Commercial Building Value',\n",
       "       'Building Storeys', 'Parcel Acres', 'Rental', 'Use Type', 'Prop Class',\n",
       "       'Old Prop class', 'Year Built', 'USPS Vacancy', 'Zoning',\n",
       "       'Future Landuse', 'DRAFT Zone', 'Housing Condition 2012',\n",
       "       'Housing Condition 2014', 'Commercial Condition 2013', 'Latitude',\n",
       "       'Longitude', 'Hydrant Type', 'Ward', 'PRECINCT', 'CENTRACT', 'CENBLOCK',\n",
       "       'SL_Type', 'SL_Type2', 'SL_Lead'],\n",
       "      dtype='object')"
      ]
     },
     "execution_count": 12,
     "metadata": {},
     "output_type": "execute_result"
    }
   ],
   "source": [
    "df3.columns"
   ]
  },
  {
   "cell_type": "markdown",
   "metadata": {},
   "source": [
    "How much do these datasets overlap?"
   ]
  },
  {
   "cell_type": "code",
   "execution_count": 13,
   "metadata": {
    "collapsed": false
   },
   "outputs": [
    {
     "data": {
      "text/plain": [
       "((288, 3), (316, 68), (284, 39))"
      ]
     },
     "execution_count": 13,
     "metadata": {},
     "output_type": "execute_result"
    }
   ],
   "source": [
    "(\n",
    "    df2.shape,\n",
    "    df2.merge(df1, how='inner', left_on='pid', right_on='PID no Dash', sort=False).shape,\n",
    "    df2.merge(df3, how='inner', left_on='pid', right_on='PID no Dash', sort=False).shape\n",
    ")"
   ]
  },
  {
   "cell_type": "markdown",
   "metadata": {},
   "source": [
    "Let's join df2 with df3 (recent drilled samples with parcel data) into our dataset and do our thing."
   ]
  },
  {
   "cell_type": "code",
   "execution_count": 14,
   "metadata": {
    "collapsed": true
   },
   "outputs": [],
   "source": [
    "df = df2.merge(df3, how='inner', left_on='pid', right_on='PID no Dash', sort=False)"
   ]
  },
  {
   "cell_type": "markdown",
   "metadata": {},
   "source": [
    "## Making sense of the variables\n",
    "\n",
    "In order to preprocess the data, let's determine which variables are quantitative and categorical, and devise a way to deal with any missing values."
   ]
  },
  {
   "cell_type": "code",
   "execution_count": 15,
   "metadata": {
    "collapsed": false
   },
   "outputs": [
    {
     "name": "stdout",
     "output_type": "stream",
     "text": [
      "284 samples, 39 columns\n"
     ]
    }
   ],
   "source": [
    "print(\"{} samples, {} columns\".format(*df.shape))"
   ]
  },
  {
   "cell_type": "markdown",
   "metadata": {},
   "source": [
    "### Missing values\n",
    "\n",
    "Which variables have missing values? How shall we deal with them?"
   ]
  },
  {
   "cell_type": "code",
   "execution_count": 16,
   "metadata": {
    "collapsed": false
   },
   "outputs": [
    {
     "data": {
      "text/plain": [
       "sl_private_type               42\n",
       "sl_public_type                38\n",
       "Residential Building Style    11\n",
       "dtype: int64"
      ]
     },
     "execution_count": 16,
     "metadata": {},
     "output_type": "execute_result"
    }
   ],
   "source": [
    "null_counts = df.isnull().sum()\n",
    "null_counts = null_counts[null_counts > 0]\n",
    "null_counts.sort_values(ascending=False, inplace=True)\n",
    "null_counts"
   ]
  },
  {
   "cell_type": "code",
   "execution_count": 17,
   "metadata": {
    "collapsed": false
   },
   "outputs": [
    {
     "name": "stdout",
     "output_type": "stream",
     "text": [
      "sl_private_type has 5 unique vals\n",
      "Residential Building Style has 6 unique vals\n"
     ]
    }
   ],
   "source": [
    "for v in ['sl_private_type', 'Residential Building Style']:\n",
    "    print(\"{} has {} unique vals\".format(v, df[v].value_counts().count()))"
   ]
  },
  {
   "cell_type": "code",
   "execution_count": 18,
   "metadata": {
    "collapsed": true
   },
   "outputs": [],
   "source": [
    "df['sl_public_type'] = df['sl_public_type'].fillna('unknown')"
   ]
  },
  {
   "cell_type": "code",
   "execution_count": 19,
   "metadata": {
    "collapsed": true
   },
   "outputs": [],
   "source": [
    "df['sl_private_type'] = df['sl_private_type'].fillna('unknown')"
   ]
  },
  {
   "cell_type": "markdown",
   "metadata": {},
   "source": [
    "Both of these will be taken care of via one-hot encoding."
   ]
  },
  {
   "cell_type": "markdown",
   "metadata": {},
   "source": [
    "### Quantitative or Categorical?\n",
    "\n",
    "At the highest level, we need to figure out which variables we'll treat as categorical or quantitative, as it will inform the preprocessing steps we'll wish to take.\n",
    "\n",
    "One heuristic for doing this in addition to common sense based on our understanding of the variable name is to look a the number of unique values per column."
   ]
  },
  {
   "cell_type": "code",
   "execution_count": 20,
   "metadata": {
    "collapsed": false
   },
   "outputs": [
    {
     "data": {
      "text/plain": [
       "Index(['pid', 'sl_private_type', 'sl_public_type', 'PID no Dash',\n",
       "       'Property Zip Code', 'Owner Type', 'Owner State', 'Homestead',\n",
       "       'Homestead Percent', 'HomeSEV', 'Land Value', 'Land Improvements Value',\n",
       "       'Residential Building Value', 'Residential Building Style',\n",
       "       'Commercial Building Value', 'Building Storeys', 'Parcel Acres',\n",
       "       'Rental', 'Use Type', 'Prop Class', 'Old Prop class', 'Year Built',\n",
       "       'USPS Vacancy', 'Zoning', 'Future Landuse', 'DRAFT Zone',\n",
       "       'Housing Condition 2012', 'Housing Condition 2014',\n",
       "       'Commercial Condition 2013', 'Latitude', 'Longitude', 'Hydrant Type',\n",
       "       'Ward', 'PRECINCT', 'CENTRACT', 'CENBLOCK', 'SL_Type', 'SL_Type2',\n",
       "       'SL_Lead'],\n",
       "      dtype='object')"
      ]
     },
     "execution_count": 20,
     "metadata": {},
     "output_type": "execute_result"
    }
   ],
   "source": [
    "df.columns"
   ]
  },
  {
   "cell_type": "code",
   "execution_count": 21,
   "metadata": {
    "collapsed": false
   },
   "outputs": [
    {
     "name": "stdout",
     "output_type": "stream",
     "text": [
      "unique values per var\n"
     ]
    },
    {
     "data": {
      "text/plain": [
       "[('Building Storeys', 2),\n",
       " ('Homestead', 2),\n",
       " ('Homestead Percent', 2),\n",
       " ('Rental', 2),\n",
       " ('SL_Lead', 2),\n",
       " ('SL_Type2', 2),\n",
       " ('Use Type', 2),\n",
       " ('Commercial Building Value', 3),\n",
       " ('Commercial Condition 2013', 3),\n",
       " ('Old Prop class', 3),\n",
       " ('Owner Type', 3),\n",
       " ('Prop Class', 3),\n",
       " ('USPS Vacancy', 3),\n",
       " ('sl_public_type', 3),\n",
       " ('Property Zip Code', 4),\n",
       " ('CENBLOCK', 5),\n",
       " ('Housing Condition 2012', 5),\n",
       " ('Hydrant Type', 5),\n",
       " ('Housing Condition 2014', 6),\n",
       " ('SL_Type', 6),\n",
       " ('Zoning', 6),\n",
       " ('sl_private_type', 6),\n",
       " ('Future Landuse', 7),\n",
       " ('Residential Building Style', 7),\n",
       " ('Ward', 7),\n",
       " ('DRAFT Zone', 9),\n",
       " ('Owner State', 12),\n",
       " ('CENTRACT', 18),\n",
       " ('Land Improvements Value', 27),\n",
       " ('PRECINCT', 27),\n",
       " ('Year Built', 36),\n",
       " ('Parcel Acres', 80),\n",
       " ('HomeSEV', 90),\n",
       " ('Land Value', 114),\n",
       " ('Latitude', 260),\n",
       " ('Residential Building Value', 263),\n",
       " ('Longitude', 266),\n",
       " ('PID no Dash', 274),\n",
       " ('pid', 274)]"
      ]
     },
     "execution_count": 21,
     "metadata": {},
     "output_type": "execute_result"
    }
   ],
   "source": [
    "print(\"unique values per var\")\n",
    "uvs = [(col, len(df[col].unique())) for col in df.columns]\n",
    "uvs = sorted(uvs, key=lambda t: (t[1], t[0]))\n",
    "uvs\n"
   ]
  },
  {
   "cell_type": "markdown",
   "metadata": {},
   "source": [
    "Eyeballing this, it seems like most of the variables with fewer than 80 unique values are categorical, and the rest either quantiative or address related, which we'll ignore for reasons stated above."
   ]
  },
  {
   "cell_type": "code",
   "execution_count": 22,
   "metadata": {
    "collapsed": false
   },
   "outputs": [
    {
     "data": {
      "text/plain": [
       "['Building Storeys',\n",
       " 'CENBLOCK',\n",
       " 'CENTRACT',\n",
       " 'Commercial Building Value',\n",
       " 'Commercial Condition 2013',\n",
       " 'DRAFT Zone',\n",
       " 'Future Landuse',\n",
       " 'Homestead',\n",
       " 'Homestead Percent',\n",
       " 'Housing Condition 2012',\n",
       " 'Housing Condition 2014',\n",
       " 'Hydrant Type',\n",
       " 'Old Prop class',\n",
       " 'Owner State',\n",
       " 'Owner Type',\n",
       " 'Prop Class',\n",
       " 'Property Zip Code',\n",
       " 'Rental',\n",
       " 'Residential Building Style',\n",
       " 'SL_Lead',\n",
       " 'sl_private_type',\n",
       " 'sl_public_type',\n",
       " 'SL_Type',\n",
       " 'SL_Type2',\n",
       " 'Use Type',\n",
       " 'USPS Vacancy',\n",
       " 'Ward',\n",
       " 'Zoning']"
      ]
     },
     "execution_count": 22,
     "metadata": {},
     "output_type": "execute_result"
    }
   ],
   "source": [
    "sorted([var for var, cnt in uvs if cnt < 20], key=lambda s: s.lower())"
   ]
  },
  {
   "cell_type": "code",
   "execution_count": 23,
   "metadata": {
    "collapsed": true
   },
   "outputs": [],
   "source": [
    "# note: we omit any of the SL variables from the parcel data\n",
    "\n",
    "cat_vars = ['Building Storeys', 'CENBLOCK', 'CENTRACT', 'Commercial Building Value', 'Commercial Condition 2013', \n",
    "            'DRAFT Zone', 'Future Landuse', 'Homestead', 'Homestead Percent', 'Housing Condition 2012', \n",
    "            'Housing Condition 2014', 'Hydrant Type', 'Old Prop class', 'Owner State', 'Owner Type', \n",
    "            'Prop Class', \n",
    "#            'Property Zip Code', \n",
    "            'Rental', 'Residential Building Style', \n",
    "#             'SL_Lead', 'sl_private_type', 'sl_public_type', 'SL_Type', 'SL_Type2', \n",
    "            'Use Type', 'USPS Vacancy', 'Ward', 'Zoning']"
   ]
  },
  {
   "cell_type": "code",
   "execution_count": 24,
   "metadata": {
    "collapsed": false
   },
   "outputs": [
    {
     "data": {
      "text/plain": [
       "['HomeSEV',\n",
       " 'Land Improvements Value',\n",
       " 'Land Value',\n",
       " 'Latitude',\n",
       " 'Longitude',\n",
       " 'Parcel Acres',\n",
       " 'pid',\n",
       " 'PID no Dash',\n",
       " 'PRECINCT',\n",
       " 'Residential Building Value',\n",
       " 'Year Built']"
      ]
     },
     "execution_count": 24,
     "metadata": {},
     "output_type": "execute_result"
    }
   ],
   "source": [
    "sorted([var for var, cnt in uvs if cnt >= 20], key=lambda s: s.lower())"
   ]
  },
  {
   "cell_type": "code",
   "execution_count": 25,
   "metadata": {
    "collapsed": true
   },
   "outputs": [],
   "source": [
    "q_candidates = ['HomeSEV', 'Land Improvements Value', 'Land Value', \n",
    "                'Latitude', 'Longitude', 'Parcel Acres', \n",
    "#                 'pid', 'PID no Dash', \n",
    "                'PRECINCT', 'Residential Building Value', 'Year Built']"
   ]
  },
  {
   "cell_type": "markdown",
   "metadata": {},
   "source": [
    "Any of these need further encoding to be float vars?"
   ]
  },
  {
   "cell_type": "code",
   "execution_count": 26,
   "metadata": {
    "collapsed": false
   },
   "outputs": [
    {
     "data": {
      "text/html": [
       "<div>\n",
       "<table border=\"1\" class=\"dataframe\">\n",
       "  <thead>\n",
       "    <tr style=\"text-align: right;\">\n",
       "      <th></th>\n",
       "      <th>HomeSEV</th>\n",
       "      <th>Land Improvements Value</th>\n",
       "      <th>Land Value</th>\n",
       "      <th>Latitude</th>\n",
       "      <th>Longitude</th>\n",
       "      <th>Parcel Acres</th>\n",
       "      <th>PRECINCT</th>\n",
       "      <th>Residential Building Value</th>\n",
       "      <th>Year Built</th>\n",
       "    </tr>\n",
       "  </thead>\n",
       "  <tbody>\n",
       "    <tr>\n",
       "      <th>0</th>\n",
       "      <td>0</td>\n",
       "      <td>0</td>\n",
       "      <td>1771</td>\n",
       "      <td>43.003733</td>\n",
       "      <td>-83.713548</td>\n",
       "      <td>0.147</td>\n",
       "      <td>51</td>\n",
       "      <td>73801</td>\n",
       "      <td>1926</td>\n",
       "    </tr>\n",
       "    <tr>\n",
       "      <th>1</th>\n",
       "      <td>4200</td>\n",
       "      <td>0</td>\n",
       "      <td>420</td>\n",
       "      <td>43.045906</td>\n",
       "      <td>-83.667857</td>\n",
       "      <td>0.101</td>\n",
       "      <td>19</td>\n",
       "      <td>7178</td>\n",
       "      <td>1927</td>\n",
       "    </tr>\n",
       "    <tr>\n",
       "      <th>2</th>\n",
       "      <td>0</td>\n",
       "      <td>0</td>\n",
       "      <td>2180</td>\n",
       "      <td>43.003908</td>\n",
       "      <td>-83.714130</td>\n",
       "      <td>0.139</td>\n",
       "      <td>49</td>\n",
       "      <td>74015</td>\n",
       "      <td>1923</td>\n",
       "    </tr>\n",
       "    <tr>\n",
       "      <th>3</th>\n",
       "      <td>0</td>\n",
       "      <td>0</td>\n",
       "      <td>1327</td>\n",
       "      <td>43.004891</td>\n",
       "      <td>-83.712238</td>\n",
       "      <td>0.100</td>\n",
       "      <td>51</td>\n",
       "      <td>58894</td>\n",
       "      <td>0</td>\n",
       "    </tr>\n",
       "    <tr>\n",
       "      <th>4</th>\n",
       "      <td>0</td>\n",
       "      <td>0</td>\n",
       "      <td>420</td>\n",
       "      <td>43.045909</td>\n",
       "      <td>-83.667709</td>\n",
       "      <td>0.101</td>\n",
       "      <td>19</td>\n",
       "      <td>7021</td>\n",
       "      <td>1915</td>\n",
       "    </tr>\n",
       "  </tbody>\n",
       "</table>\n",
       "</div>"
      ],
      "text/plain": [
       "   HomeSEV  Land Improvements Value  Land Value   Latitude  Longitude  \\\n",
       "0        0                        0        1771  43.003733 -83.713548   \n",
       "1     4200                        0         420  43.045906 -83.667857   \n",
       "2        0                        0        2180  43.003908 -83.714130   \n",
       "3        0                        0        1327  43.004891 -83.712238   \n",
       "4        0                        0         420  43.045909 -83.667709   \n",
       "\n",
       "   Parcel Acres  PRECINCT  Residential Building Value  Year Built  \n",
       "0         0.147        51                       73801        1926  \n",
       "1         0.101        19                        7178        1927  \n",
       "2         0.139        49                       74015        1923  \n",
       "3         0.100        51                       58894           0  \n",
       "4         0.101        19                        7021        1915  "
      ]
     },
     "execution_count": 26,
     "metadata": {},
     "output_type": "execute_result"
    }
   ],
   "source": [
    "df[q_candidates].head()"
   ]
  },
  {
   "cell_type": "markdown",
   "metadata": {},
   "source": [
    "nope"
   ]
  },
  {
   "cell_type": "code",
   "execution_count": 27,
   "metadata": {
    "collapsed": true
   },
   "outputs": [],
   "source": [
    "q_vars = ['HomeSEV', 'Land Improvements Value', 'Land Value', \n",
    "#                 'Latitude', 'Longitude', \n",
    "                'Parcel Acres', \n",
    "#                 'pid', 'PID no Dash', \n",
    "                'PRECINCT', 'Residential Building Value', 'Year Built']"
   ]
  },
  {
   "cell_type": "code",
   "execution_count": 28,
   "metadata": {
    "collapsed": true
   },
   "outputs": [],
   "source": [
    "from sklearn.base import TransformerMixin, BaseEstimator\n",
    "import pandas as pd\n",
    "\n",
    "\n",
    "class BaseTransformer(BaseEstimator, TransformerMixin):\n",
    "    def fit(self, X, y=None, **fit_params):\n",
    "        return self\n",
    "\n",
    "    def transform(self, X, **transform_params):\n",
    "        return self\n",
    "\n",
    "\n",
    "class ColumnSelector(BaseTransformer):\n",
    "    \"\"\"Selects columns from Pandas Dataframe\"\"\"\n",
    "\n",
    "    def __init__(self, columns, c_type=None):\n",
    "        self.columns = columns\n",
    "        self.c_type = c_type\n",
    "\n",
    "    def transform(self, X, **transform_params):\n",
    "        cs = X[self.columns]\n",
    "        if self.c_type is None:\n",
    "            return cs\n",
    "        else:\n",
    "            return cs.astype(self.c_type)\n",
    "\n",
    "\n",
    "class SpreadBinary(BaseTransformer):\n",
    "\n",
    "    def transform(self, X, **transform_params):\n",
    "        return X.applymap(lambda x: 1 if x == 1 else -1)\n",
    "\n",
    "\n",
    "class DfTransformerAdapter(BaseTransformer):\n",
    "    \"\"\"Adapts a scikit-learn Transformer to return a pandas DataFrame\"\"\"\n",
    "\n",
    "    def __init__(self, transformer):\n",
    "        self.transformer = transformer\n",
    "\n",
    "    def fit(self, X, y=None, **fit_params):\n",
    "        self.transformer.fit(X, y=y, **fit_params)\n",
    "        return self\n",
    "\n",
    "    def transform(self, X, **transform_params):\n",
    "        raw_result = self.transformer.transform(X, **transform_params)\n",
    "        return pd.DataFrame(raw_result, columns=X.columns, index=X.index)\n",
    "\n",
    "\n",
    "class DfOneHot(BaseTransformer):\n",
    "    \"\"\"\n",
    "    Wraps helper method `get_dummies` making sure all columns get one-hot encoded.\n",
    "    \"\"\"\n",
    "    def __init__(self):\n",
    "        self.dummy_columns = []\n",
    "\n",
    "    def fit(self, X, y=None, **fit_params):\n",
    "        self.dummy_columns = pd.get_dummies(\n",
    "            X,\n",
    "            prefix=[c for c in X.columns],\n",
    "            columns=X.columns).columns\n",
    "        return self\n",
    "\n",
    "    def transform(self, X, **transform_params):\n",
    "        return pd.get_dummies(\n",
    "            X,\n",
    "            prefix=[c for c in X.columns],\n",
    "            columns=X.columns).reindex(columns=self.dummy_columns, fill_value=0)\n",
    "\n",
    "\n",
    "class DfFeatureUnion(BaseTransformer):\n",
    "    \"\"\"A dataframe friendly implementation of `FeatureUnion`\"\"\"\n",
    "\n",
    "    def __init__(self, transformers):\n",
    "        self.transformers = transformers\n",
    "\n",
    "    def fit(self, X, y=None, **fit_params):\n",
    "        for l, t in self.transformers:\n",
    "            t.fit(X, y=y, **fit_params)\n",
    "        return self\n",
    "\n",
    "    def transform(self, X, **transform_params):\n",
    "        transform_results = [t.transform(X, **transform_params) for l, t in self.transformers]\n",
    "        return pd.concat(transform_results, axis=1)\n"
   ]
  },
  {
   "cell_type": "code",
   "execution_count": 29,
   "metadata": {
    "collapsed": false
   },
   "outputs": [],
   "source": [
    "from sklearn.pipeline import Pipeline\n",
    "\n",
    "preprocessor = Pipeline([\n",
    "    ('features', DfFeatureUnion([\n",
    "        ('quantitative', Pipeline([\n",
    "            ('select-quantitative', ColumnSelector(q_vars, c_type='float')),\n",
    "#             ('impute-missing', DfTransformerAdapter(Imputer(strategy='median'))),\n",
    "#             ('scale', DfTransformerAdapter(StandardScaler()))\n",
    "        ])),\n",
    "        ('categorical', Pipeline([\n",
    "            ('select-categorical', ColumnSelector(cat_vars)),\n",
    "            ('apply-onehot', DfOneHot()),\n",
    "#             ('spread-binary', SpreadBinary())\n",
    "        ])),\n",
    "    ]))\n",
    "])"
   ]
  },
  {
   "cell_type": "code",
   "execution_count": 30,
   "metadata": {
    "collapsed": false
   },
   "outputs": [],
   "source": [
    "from sklearn.preprocessing import StandardScaler\n",
    "\n",
    "preprocessor_with_scaling = Pipeline([\n",
    "    ('features', DfFeatureUnion([\n",
    "        ('quantitative', Pipeline([\n",
    "            ('select-quantitative', ColumnSelector(q_vars, c_type='float')),\n",
    "#             ('impute-missing', DfTransformerAdapter(Imputer(strategy='median'))),\n",
    "            ('scale', DfTransformerAdapter(StandardScaler()))\n",
    "        ])),\n",
    "        ('categorical', Pipeline([\n",
    "            ('select-categorical', ColumnSelector(cat_vars)),\n",
    "            ('apply-onehot', DfOneHot()),\n",
    "            ('spread-binary', SpreadBinary())\n",
    "        ])),\n",
    "    ]))\n",
    "])"
   ]
  },
  {
   "cell_type": "code",
   "execution_count": 31,
   "metadata": {
    "collapsed": false
   },
   "outputs": [],
   "source": [
    "df_preprocessed = preprocessor.fit_transform(df)"
   ]
  },
  {
   "cell_type": "code",
   "execution_count": 32,
   "metadata": {
    "collapsed": false
   },
   "outputs": [
    {
     "data": {
      "text/plain": [
       "(284, 121)"
      ]
     },
     "execution_count": 32,
     "metadata": {},
     "output_type": "execute_result"
    }
   ],
   "source": [
    "df_preprocessed.shape"
   ]
  },
  {
   "cell_type": "code",
   "execution_count": 33,
   "metadata": {
    "collapsed": false
   },
   "outputs": [
    {
     "data": {
      "text/html": [
       "<div>\n",
       "<table border=\"1\" class=\"dataframe\">\n",
       "  <thead>\n",
       "    <tr style=\"text-align: right;\">\n",
       "      <th></th>\n",
       "      <th>HomeSEV</th>\n",
       "      <th>Land Improvements Value</th>\n",
       "      <th>Land Value</th>\n",
       "      <th>Parcel Acres</th>\n",
       "      <th>PRECINCT</th>\n",
       "      <th>Residential Building Value</th>\n",
       "      <th>Year Built</th>\n",
       "      <th>Building Storeys_0</th>\n",
       "      <th>Building Storeys_1</th>\n",
       "      <th>CENBLOCK_</th>\n",
       "      <th>...</th>\n",
       "      <th>Ward_4</th>\n",
       "      <th>Ward_5</th>\n",
       "      <th>Ward_6</th>\n",
       "      <th>Ward_8</th>\n",
       "      <th>Zoning_A-2</th>\n",
       "      <th>Zoning_A2</th>\n",
       "      <th>Zoning_B</th>\n",
       "      <th>Zoning_C1</th>\n",
       "      <th>Zoning_D-2</th>\n",
       "      <th>Zoning_D-6</th>\n",
       "    </tr>\n",
       "  </thead>\n",
       "  <tbody>\n",
       "    <tr>\n",
       "      <th>0</th>\n",
       "      <td>0.0</td>\n",
       "      <td>0.0</td>\n",
       "      <td>1771.0</td>\n",
       "      <td>0.147</td>\n",
       "      <td>51.0</td>\n",
       "      <td>73801.0</td>\n",
       "      <td>1926.0</td>\n",
       "      <td>1.0</td>\n",
       "      <td>0.0</td>\n",
       "      <td>0.0</td>\n",
       "      <td>...</td>\n",
       "      <td>0.0</td>\n",
       "      <td>0.0</td>\n",
       "      <td>0.0</td>\n",
       "      <td>1.0</td>\n",
       "      <td>0.0</td>\n",
       "      <td>0.0</td>\n",
       "      <td>1.0</td>\n",
       "      <td>0.0</td>\n",
       "      <td>0.0</td>\n",
       "      <td>0.0</td>\n",
       "    </tr>\n",
       "    <tr>\n",
       "      <th>1</th>\n",
       "      <td>4200.0</td>\n",
       "      <td>0.0</td>\n",
       "      <td>420.0</td>\n",
       "      <td>0.101</td>\n",
       "      <td>19.0</td>\n",
       "      <td>7178.0</td>\n",
       "      <td>1927.0</td>\n",
       "      <td>1.0</td>\n",
       "      <td>0.0</td>\n",
       "      <td>0.0</td>\n",
       "      <td>...</td>\n",
       "      <td>0.0</td>\n",
       "      <td>0.0</td>\n",
       "      <td>0.0</td>\n",
       "      <td>0.0</td>\n",
       "      <td>0.0</td>\n",
       "      <td>0.0</td>\n",
       "      <td>1.0</td>\n",
       "      <td>0.0</td>\n",
       "      <td>0.0</td>\n",
       "      <td>0.0</td>\n",
       "    </tr>\n",
       "    <tr>\n",
       "      <th>2</th>\n",
       "      <td>0.0</td>\n",
       "      <td>0.0</td>\n",
       "      <td>2180.0</td>\n",
       "      <td>0.139</td>\n",
       "      <td>49.0</td>\n",
       "      <td>74015.0</td>\n",
       "      <td>1923.0</td>\n",
       "      <td>1.0</td>\n",
       "      <td>0.0</td>\n",
       "      <td>0.0</td>\n",
       "      <td>...</td>\n",
       "      <td>0.0</td>\n",
       "      <td>0.0</td>\n",
       "      <td>0.0</td>\n",
       "      <td>1.0</td>\n",
       "      <td>0.0</td>\n",
       "      <td>1.0</td>\n",
       "      <td>0.0</td>\n",
       "      <td>0.0</td>\n",
       "      <td>0.0</td>\n",
       "      <td>0.0</td>\n",
       "    </tr>\n",
       "    <tr>\n",
       "      <th>3</th>\n",
       "      <td>0.0</td>\n",
       "      <td>0.0</td>\n",
       "      <td>1327.0</td>\n",
       "      <td>0.100</td>\n",
       "      <td>51.0</td>\n",
       "      <td>58894.0</td>\n",
       "      <td>0.0</td>\n",
       "      <td>1.0</td>\n",
       "      <td>0.0</td>\n",
       "      <td>0.0</td>\n",
       "      <td>...</td>\n",
       "      <td>0.0</td>\n",
       "      <td>0.0</td>\n",
       "      <td>0.0</td>\n",
       "      <td>1.0</td>\n",
       "      <td>0.0</td>\n",
       "      <td>0.0</td>\n",
       "      <td>1.0</td>\n",
       "      <td>0.0</td>\n",
       "      <td>0.0</td>\n",
       "      <td>0.0</td>\n",
       "    </tr>\n",
       "    <tr>\n",
       "      <th>4</th>\n",
       "      <td>0.0</td>\n",
       "      <td>0.0</td>\n",
       "      <td>420.0</td>\n",
       "      <td>0.101</td>\n",
       "      <td>19.0</td>\n",
       "      <td>7021.0</td>\n",
       "      <td>1915.0</td>\n",
       "      <td>1.0</td>\n",
       "      <td>0.0</td>\n",
       "      <td>0.0</td>\n",
       "      <td>...</td>\n",
       "      <td>0.0</td>\n",
       "      <td>0.0</td>\n",
       "      <td>0.0</td>\n",
       "      <td>0.0</td>\n",
       "      <td>0.0</td>\n",
       "      <td>0.0</td>\n",
       "      <td>1.0</td>\n",
       "      <td>0.0</td>\n",
       "      <td>0.0</td>\n",
       "      <td>0.0</td>\n",
       "    </tr>\n",
       "  </tbody>\n",
       "</table>\n",
       "<p>5 rows × 121 columns</p>\n",
       "</div>"
      ],
      "text/plain": [
       "   HomeSEV  Land Improvements Value  Land Value  Parcel Acres  PRECINCT  \\\n",
       "0      0.0                      0.0      1771.0         0.147      51.0   \n",
       "1   4200.0                      0.0       420.0         0.101      19.0   \n",
       "2      0.0                      0.0      2180.0         0.139      49.0   \n",
       "3      0.0                      0.0      1327.0         0.100      51.0   \n",
       "4      0.0                      0.0       420.0         0.101      19.0   \n",
       "\n",
       "   Residential Building Value  Year Built  Building Storeys_0  \\\n",
       "0                     73801.0      1926.0                 1.0   \n",
       "1                      7178.0      1927.0                 1.0   \n",
       "2                     74015.0      1923.0                 1.0   \n",
       "3                     58894.0         0.0                 1.0   \n",
       "4                      7021.0      1915.0                 1.0   \n",
       "\n",
       "   Building Storeys_1  CENBLOCK_      ...      Ward_4  Ward_5  Ward_6  Ward_8  \\\n",
       "0                 0.0         0.0     ...         0.0     0.0     0.0     1.0   \n",
       "1                 0.0         0.0     ...         0.0     0.0     0.0     0.0   \n",
       "2                 0.0         0.0     ...         0.0     0.0     0.0     1.0   \n",
       "3                 0.0         0.0     ...         0.0     0.0     0.0     1.0   \n",
       "4                 0.0         0.0     ...         0.0     0.0     0.0     0.0   \n",
       "\n",
       "   Zoning_A-2  Zoning_A2  Zoning_B  Zoning_C1  Zoning_D-2  Zoning_D-6  \n",
       "0         0.0        0.0       1.0        0.0         0.0         0.0  \n",
       "1         0.0        0.0       1.0        0.0         0.0         0.0  \n",
       "2         0.0        1.0       0.0        0.0         0.0         0.0  \n",
       "3         0.0        0.0       1.0        0.0         0.0         0.0  \n",
       "4         0.0        0.0       1.0        0.0         0.0         0.0  \n",
       "\n",
       "[5 rows x 121 columns]"
      ]
     },
     "execution_count": 33,
     "metadata": {},
     "output_type": "execute_result"
    }
   ],
   "source": [
    "df_preprocessed.head()"
   ]
  },
  {
   "cell_type": "code",
   "execution_count": 34,
   "metadata": {
    "collapsed": false
   },
   "outputs": [
    {
     "name": "stdout",
     "output_type": "stream",
     "text": [
      "unique values per var in preprocessed\n"
     ]
    },
    {
     "data": {
      "text/plain": [
       "[('Building Storeys_0', 2),\n",
       " ('Building Storeys_1', 2),\n",
       " ('CENBLOCK_ ', 2),\n",
       " ('CENBLOCK_1', 2),\n",
       " ('CENBLOCK_2', 2),\n",
       " ('CENBLOCK_3', 2),\n",
       " ('CENBLOCK_4', 2),\n",
       " ('CENTRACT_ ', 2),\n",
       " ('CENTRACT_000400', 2),\n",
       " ('CENTRACT_000500', 2),\n",
       " ('CENTRACT_000600', 2),\n",
       " ('CENTRACT_000800', 2),\n",
       " ('CENTRACT_000900', 2),\n",
       " ('CENTRACT_001000', 2),\n",
       " ('CENTRACT_001100', 2),\n",
       " ('CENTRACT_001200', 2),\n",
       " ('CENTRACT_001400', 2),\n",
       " ('CENTRACT_001500', 2),\n",
       " ('CENTRACT_001700', 2),\n",
       " ('CENTRACT_002200', 2),\n",
       " ('CENTRACT_002300', 2),\n",
       " ('CENTRACT_002600', 2),\n",
       " ('CENTRACT_002700', 2),\n",
       " ('CENTRACT_003700', 2),\n",
       " ('CENTRACT_003800', 2),\n",
       " ('Commercial Building Value_0.0', 2),\n",
       " ('Commercial Building Value_164371.4279', 2),\n",
       " ('Commercial Building Value_176332.1421', 2),\n",
       " ('Commercial Condition 2013_ ', 2),\n",
       " ('Commercial Condition 2013_Fair', 2),\n",
       " ('Commercial Condition 2013_Poor', 2),\n",
       " ('DRAFT Zone_GI-1', 2),\n",
       " ('DRAFT Zone_GN-1', 2),\n",
       " ('DRAFT Zone_GN-2', 2),\n",
       " ('DRAFT Zone_MR-1', 2),\n",
       " ('DRAFT Zone_MR-2', 2),\n",
       " ('DRAFT Zone_MR-3', 2),\n",
       " ('DRAFT Zone_NC', 2),\n",
       " ('DRAFT Zone_TN-2', 2),\n",
       " ('DRAFT Zone_UC', 2),\n",
       " ('Future Landuse_Community Open Space', 2),\n",
       " ('Future Landuse_Green Innovation', 2),\n",
       " ('Future Landuse_Green Neighborhood', 2),\n",
       " ('Future Landuse_Mixed Residential', 2),\n",
       " ('Future Landuse_Neighborhood Center', 2),\n",
       " ('Future Landuse_Traditional Neighborhood', 2),\n",
       " ('Future Landuse_University Avenue Core', 2),\n",
       " ('Homestead Percent_0.0', 2),\n",
       " ('Homestead Percent_100.0', 2),\n",
       " ('Homestead_No', 2),\n",
       " ('Homestead_Yes', 2),\n",
       " ('Housing Condition 2012_ ', 2),\n",
       " ('Housing Condition 2012_Fair', 2),\n",
       " ('Housing Condition 2012_Good', 2),\n",
       " ('Housing Condition 2012_Poor', 2),\n",
       " ('Housing Condition 2012_Substandard', 2),\n",
       " ('Housing Condition 2014_ ', 2),\n",
       " ('Housing Condition 2014_Fair', 2),\n",
       " ('Housing Condition 2014_Good', 2),\n",
       " ('Housing Condition 2014_Poor', 2),\n",
       " ('Housing Condition 2014_Structurally Deficient', 2),\n",
       " ('Housing Condition 2014_Vacant Lot', 2),\n",
       " ('Hydrant Type_A.D.', 2),\n",
       " ('Hydrant Type_Dar', 2),\n",
       " ('Hydrant Type_Mueller', 2),\n",
       " ('Hydrant Type_Other', 2),\n",
       " ('Hydrant Type_T.C.', 2),\n",
       " ('Old Prop class_CI', 2),\n",
       " ('Old Prop class_RI', 2),\n",
       " ('Old Prop class_RV', 2),\n",
       " ('Owner State_AL', 2),\n",
       " ('Owner State_AZ', 2),\n",
       " ('Owner State_CA', 2),\n",
       " ('Owner State_FL', 2),\n",
       " ('Owner State_LA', 2),\n",
       " ('Owner State_MI', 2),\n",
       " ('Owner State_NC', 2),\n",
       " ('Owner State_NV', 2),\n",
       " ('Owner State_OH', 2),\n",
       " ('Owner State_TX', 2),\n",
       " ('Owner State_VA', 2),\n",
       " ('Owner State_WI', 2),\n",
       " ('Owner Type_Land Bank', 2),\n",
       " ('Owner Type_Private', 2),\n",
       " ('Owner Type_Public', 2),\n",
       " ('Prop Class_CI', 2),\n",
       " ('Prop Class_RI', 2),\n",
       " ('Prop Class_RV', 2),\n",
       " ('Rental_No', 2),\n",
       " ('Rental_Yes', 2),\n",
       " ('Residential Building Style_CAPECOD', 2),\n",
       " ('Residential Building Style_FOUR UNIT', 2),\n",
       " ('Residential Building Style_ONE STORY', 2),\n",
       " ('Residential Building Style_THREE UNIT', 2),\n",
       " ('Residential Building Style_TWO STORY', 2),\n",
       " ('Residential Building Style_TWO UNIT', 2),\n",
       " ('USPS Vacancy_ ', 2),\n",
       " ('USPS Vacancy_N', 2),\n",
       " ('USPS Vacancy_Y', 2),\n",
       " ('Use Type_Commercial', 2),\n",
       " ('Use Type_Residential', 2),\n",
       " ('Ward_1', 2),\n",
       " ('Ward_2', 2),\n",
       " ('Ward_3', 2),\n",
       " ('Ward_4', 2),\n",
       " ('Ward_5', 2),\n",
       " ('Ward_6', 2),\n",
       " ('Ward_8', 2),\n",
       " ('Zoning_A-2', 2),\n",
       " ('Zoning_A2', 2),\n",
       " ('Zoning_B', 2),\n",
       " ('Zoning_C1', 2),\n",
       " ('Zoning_D-2', 2),\n",
       " ('Zoning_D-6', 2),\n",
       " ('Land Improvements Value', 27),\n",
       " ('PRECINCT', 27),\n",
       " ('Year Built', 36),\n",
       " ('Parcel Acres', 80),\n",
       " ('HomeSEV', 90),\n",
       " ('Land Value', 114),\n",
       " ('Residential Building Value', 263)]"
      ]
     },
     "execution_count": 34,
     "metadata": {},
     "output_type": "execute_result"
    }
   ],
   "source": [
    "print(\"unique values per var in preprocessed\")\n",
    "uvs = [(col, len(df_preprocessed[col].unique())) for col in df_preprocessed.columns]\n",
    "uvs = sorted(uvs, key=lambda t: (t[1], t[0]))\n",
    "uvs"
   ]
  },
  {
   "cell_type": "markdown",
   "metadata": {},
   "source": [
    "## Exploratory analysis\n",
    "\n",
    "Basics: how many of the samples have lead?"
   ]
  },
  {
   "cell_type": "code",
   "execution_count": 35,
   "metadata": {
    "collapsed": false
   },
   "outputs": [
    {
     "data": {
      "text/plain": [
       "Lead       220\n",
       "unknown     38\n",
       "Copper      26\n",
       "Name: sl_public_type, dtype: int64"
      ]
     },
     "execution_count": 35,
     "metadata": {},
     "output_type": "execute_result"
    }
   ],
   "source": [
    "df['sl_public_type'].value_counts()"
   ]
  },
  {
   "cell_type": "markdown",
   "metadata": {},
   "source": [
    "### Categorical vars\n",
    "\n",
    "Compare bar charts per class"
   ]
  },
  {
   "cell_type": "markdown",
   "metadata": {},
   "source": [
    "### Quantitative vars\n",
    "\n",
    "Histogram per class."
   ]
  },
  {
   "cell_type": "markdown",
   "metadata": {},
   "source": [
    "### Geographic distribution\n",
    "\n",
    "Plotting classes via lat/lon."
   ]
  },
  {
   "cell_type": "markdown",
   "metadata": {},
   "source": [
    "## Trying out some models\n",
    "\n",
    "Let's try out logistic regression and random forest models. The tree based model will hopefully be able to capture any geographic signal, and can give us insight into feature importance too."
   ]
  },
  {
   "cell_type": "code",
   "execution_count": 36,
   "metadata": {
    "collapsed": true
   },
   "outputs": [],
   "source": [
    "from sklearn.ensemble import RandomForestClassifier\n",
    "from sklearn.linear_model import LogisticRegression\n",
    "\n",
    "pipe_lr = Pipeline([\n",
    "        ('wrangle', preprocessor_with_scaling),\n",
    "        ('lr', LogisticRegression(C=100.0, random_state=0))\n",
    "    ])\n",
    "\n",
    "pipe_rf = Pipeline([\n",
    "        ('wrangle', preprocessor),\n",
    "        ('rf', RandomForestClassifier(criterion='entropy', n_estimators=10, random_state=0))\n",
    "    ])"
   ]
  },
  {
   "cell_type": "code",
   "execution_count": 37,
   "metadata": {
    "collapsed": false
   },
   "outputs": [],
   "source": [
    "feature_columns = cat_vars + q_vars"
   ]
  },
  {
   "cell_type": "code",
   "execution_count": 38,
   "metadata": {
    "collapsed": false
   },
   "outputs": [
    {
     "name": "stdout",
     "output_type": "stream",
     "text": [
      "['Building Storeys', 'CENBLOCK', 'CENTRACT', 'Commercial Building Value', 'Commercial Condition 2013', 'DRAFT Zone', 'Future Landuse', 'HomeSEV', 'Homestead', 'Homestead Percent', 'Housing Condition 2012', 'Housing Condition 2014', 'Hydrant Type', 'Land Improvements Value', 'Land Value', 'Old Prop class', 'Owner State', 'Owner Type', 'PRECINCT', 'Parcel Acres', 'Prop Class', 'Rental', 'Residential Building Style', 'Residential Building Value', 'USPS Vacancy', 'Use Type', 'Ward', 'Year Built', 'Zoning']\n"
     ]
    }
   ],
   "source": [
    "print(\"{}\".format(sorted(feature_columns, )))"
   ]
  },
  {
   "cell_type": "code",
   "execution_count": 39,
   "metadata": {
    "collapsed": false
   },
   "outputs": [],
   "source": [
    "from sklearn.cross_validation import train_test_split\n",
    "\n",
    "training_data, test_data = train_test_split(df, train_size=0.8, random_state=0, stratify=df['sl_public_type'])"
   ]
  },
  {
   "cell_type": "code",
   "execution_count": 40,
   "metadata": {
    "collapsed": false
   },
   "outputs": [],
   "source": [
    "def extract_X_y(df):\n",
    "    return df[feature_columns], df['sl_public_type']\n",
    "\n",
    "X, y = extract_X_y(train_test_split(df, train_size=0.95, random_state=0, stratify=df['sl_public_type'])[0])\n",
    "X_train, y_train = extract_X_y(training_data)\n",
    "X_test, y_test = extract_X_y(test_data)"
   ]
  },
  {
   "cell_type": "code",
   "execution_count": 41,
   "metadata": {
    "collapsed": true
   },
   "outputs": [],
   "source": [
    "from sklearn.metrics import accuracy_score\n",
    "from sklearn.cross_validation import cross_val_score\n",
    "import numpy as np\n"
   ]
  },
  {
   "cell_type": "code",
   "execution_count": 42,
   "metadata": {
    "collapsed": false
   },
   "outputs": [
    {
     "name": "stdout",
     "output_type": "stream",
     "text": [
      "Evaluating logistic regression\n",
      "  5-fold CV accuracy: 0.766 +/- 0.062\n",
      "  80/20 train/test test accuracy: 0.807\n",
      "Evaluating random forest\n",
      "  5-fold CV accuracy: 0.788 +/- 0.060\n",
      "  80/20 train/test test accuracy: 0.860\n"
     ]
    }
   ],
   "source": [
    "models = [\n",
    "    ('logistic regression', pipe_lr), \n",
    "    ('random forest', pipe_rf), \n",
    "]\n",
    "\n",
    "for label, model in models:\n",
    "    print('Evaluating {}'.format(label))\n",
    "    scores = cross_val_score(estimator=model,\n",
    "                         X=X_train,\n",
    "                         y=y_train,\n",
    "                         cv=5,\n",
    "                         n_jobs=2)\n",
    "    print('  5-fold CV accuracy: {:.3f} +/- {:.3f}'.format(np.mean(scores), np.std(scores)))\n",
    "    model.fit(X_train, y_train)  \n",
    "    print('  80/20 train/test test accuracy: {:.3f}'.format(\n",
    "            accuracy_score(y_test, model.predict(X_test)))) "
   ]
  },
  {
   "cell_type": "markdown",
   "metadata": {},
   "source": [
    "Todo:\n",
    "\n",
    "- plot decision regions\n",
    "- explicitly use StratifiedKFold validation so we can print out number of coper / lead in each fold"
   ]
  },
  {
   "cell_type": "markdown",
   "metadata": {},
   "source": [
    "## Learning Curves"
   ]
  },
  {
   "cell_type": "code",
   "execution_count": 43,
   "metadata": {
    "collapsed": true
   },
   "outputs": [],
   "source": [
    "import matplotlib.pyplot as plt\n",
    "\n",
    "%matplotlib inline\n",
    "%config InlineBackend.figure_format = 'retina'"
   ]
  },
  {
   "cell_type": "code",
   "execution_count": 44,
   "metadata": {
    "collapsed": false
   },
   "outputs": [
    {
     "data": {
      "image/png": "[encoded data removed]",
      "text/plain": [
       "<matplotlib.figure.Figure at 0x119462d30>"
      ]
     },
     "metadata": {
      "image/png": {
       "height": 282,
       "width": 424
      }
     },
     "output_type": "display_data"
    },
    {
     "data": {
      "image/png": "[encoded data removed]",
      "text/plain": [
       "<matplotlib.figure.Figure at 0x119da4240>"
      ]
     },
     "metadata": {
      "image/png": {
       "height": 282,
       "width": 424
      }
     },
     "output_type": "display_data"
    }
   ],
   "source": [
    "from sklearn.learning_curve import learning_curve\n",
    "\n",
    "for label, model in models:\n",
    "    \n",
    "    train_sizes, train_scores, test_scores = learning_curve(\n",
    "        estimator=model,\n",
    "        X=X,\n",
    "        y=y,\n",
    "        train_sizes=np.linspace(0.1, 1.0, 10),\n",
    "        cv=5,\n",
    "        n_jobs=1)\n",
    "    \n",
    "    train_mean = np.mean(train_scores, axis=1)\n",
    "    train_std = np.std(train_scores, axis=1)\n",
    "    test_mean = np.mean(test_scores, axis=1)\n",
    "    test_std = np.std(test_scores, axis=1)\n",
    "\n",
    "    plt.plot(train_sizes, train_mean,\n",
    "             color='blue', marker='o',\n",
    "             markersize=5, label='training accuracy')\n",
    "\n",
    "    plt.fill_between(train_sizes,\n",
    "                     train_mean + train_std,\n",
    "                     train_mean - train_std,\n",
    "                     alpha=0.15, color='blue')\n",
    "\n",
    "    plt.plot(train_sizes, test_mean,\n",
    "             color='green', linestyle='--',\n",
    "             marker='s', markersize=5,\n",
    "             label='validation accuracy')\n",
    "\n",
    "    plt.fill_between(train_sizes,\n",
    "                     test_mean + test_std,\n",
    "                     test_mean - test_std,\n",
    "                     alpha=0.15, color='green')\n",
    "\n",
    "    plt.grid()\n",
    "    plt.title(label)\n",
    "    plt.xlabel('Number of training samples')\n",
    "    plt.ylabel('Accuracy')\n",
    "    plt.legend(loc='center left')\n",
    "    plt.tight_layout()\n",
    "    # plt.savefig('./figures/learning_curve.png', dpi=300)\n",
    "    plt.show()\n"
   ]
  },
  {
   "cell_type": "code",
   "execution_count": 45,
   "metadata": {
    "collapsed": false
   },
   "outputs": [],
   "source": [
    "# from mlxtend.evaluate import plot_decision_regions\n",
    "\n",
    "# for label, model in models:\n",
    "#     fig = plot_decision_regions(X=X.as_matrix, y=y,\n",
    "#                                 clf=model, legend=2)\n",
    "#     plt.title(label)\n",
    "    "
   ]
  },
  {
   "cell_type": "code",
   "execution_count": 46,
   "metadata": {
    "collapsed": false
   },
   "outputs": [
    {
     "name": "stdout",
     "output_type": "stream",
     "text": [
      " 1) HomeSEV                        0.085704\n",
      " 2) Land Improvements Value        0.080317\n",
      " 3) Land Value                     0.050993\n",
      " 4) Parcel Acres                   0.048908\n",
      " 5) PRECINCT                       0.044714\n",
      " 6) Residential Building Value     0.039267\n",
      " 7) Year Built                     0.038751\n",
      " 8) Building Storeys_0             0.037418\n",
      " 9) Building Storeys_1             0.026886\n",
      "10) CENBLOCK_                      0.025760\n",
      "11) CENBLOCK_1                     0.025027\n",
      "12) CENBLOCK_2                     0.020138\n",
      "13) CENBLOCK_3                     0.019959\n",
      "14) CENBLOCK_4                     0.019929\n",
      "15) CENTRACT_                      0.019582\n",
      "16) CENTRACT_000400                0.017152\n",
      "17) CENTRACT_000500                0.016555\n",
      "18) CENTRACT_000600                0.016409\n",
      "19) CENTRACT_000800                0.016376\n",
      "20) CENTRACT_000900                0.015809\n",
      "21) CENTRACT_001000                0.015706\n",
      "22) CENTRACT_001100                0.013993\n",
      "23) CENTRACT_001200                0.012414\n",
      "24) CENTRACT_001400                0.011687\n",
      "25) CENTRACT_001500                0.010850\n",
      "26) CENTRACT_001700                0.010744\n",
      "27) CENTRACT_002200                0.010460\n",
      "28) CENTRACT_002300                0.010416\n",
      "29) CENTRACT_002600                0.009987\n",
      "30) CENTRACT_002700                0.009813\n",
      "31) CENTRACT_003700                0.009612\n",
      "32) CENTRACT_003800                0.009417\n",
      "33) Commercial Building Value_0.0  0.009204\n",
      "34) Commercial Building Value_164371.4279 0.008975\n",
      "35) Commercial Building Value_176332.1421 0.008659\n",
      "36) Commercial Condition 2013_     0.008487\n",
      "37) Commercial Condition 2013_Fair 0.008271\n",
      "38) Commercial Condition 2013_Poor 0.007909\n",
      "39) DRAFT Zone_GI-1                0.007760\n",
      "40) DRAFT Zone_GN-1                0.007640\n",
      "41) DRAFT Zone_GN-2                0.007552\n",
      "42) DRAFT Zone_MR-1                0.007289\n",
      "43) DRAFT Zone_MR-2                0.007206\n",
      "44) DRAFT Zone_MR-3                0.006614\n",
      "45) DRAFT Zone_NC                  0.006571\n",
      "46) DRAFT Zone_TN-2                0.006528\n",
      "47) DRAFT Zone_UC                  0.006018\n",
      "48) Future Landuse_Community Open Space 0.005517\n",
      "49) Future Landuse_Green Innovation 0.005461\n",
      "50) Future Landuse_Green Neighborhood 0.005286\n",
      "51) Future Landuse_Mixed Residential 0.004859\n",
      "52) Future Landuse_Neighborhood Center 0.004558\n",
      "53) Future Landuse_Traditional Neighborhood 0.004534\n",
      "54) Future Landuse_University Avenue Core 0.004488\n",
      "55) Homestead_No                   0.003865\n",
      "56) Homestead_Yes                  0.003841\n",
      "57) Homestead Percent_0.0          0.003789\n",
      "58) Homestead Percent_100.0        0.003681\n",
      "59) Housing Condition 2012_        0.003611\n",
      "60) Housing Condition 2012_Fair    0.003121\n",
      "61) Housing Condition 2012_Good    0.003082\n",
      "62) Housing Condition 2012_Poor    0.003022\n",
      "63) Housing Condition 2012_Substandard 0.002992\n",
      "64) Housing Condition 2014_        0.002542\n",
      "65) Housing Condition 2014_Fair    0.002361\n",
      "66) Housing Condition 2014_Good    0.002292\n",
      "67) Housing Condition 2014_Poor    0.002072\n",
      "68) Housing Condition 2014_Structurally Deficient 0.002028\n",
      "69) Housing Condition 2014_Vacant Lot 0.001996\n",
      "70) Hydrant Type_A.D.              0.001471\n",
      "71) Hydrant Type_Dar               0.001385\n",
      "72) Hydrant Type_Mueller           0.000600\n",
      "73) Hydrant Type_Other             0.000517\n",
      "74) Hydrant Type_T.C.              0.000496\n",
      "75) Old Prop class_CI              0.000406\n",
      "76) Old Prop class_RI              0.000365\n",
      "77) Old Prop class_RV              0.000324\n",
      "78) Owner State_AL                 0.000000\n",
      "79) Owner State_AZ                 0.000000\n",
      "80) Owner State_CA                 0.000000\n",
      "81) Owner State_FL                 0.000000\n",
      "82) Owner State_LA                 0.000000\n",
      "83) Owner State_MI                 0.000000\n",
      "84) Owner State_NC                 0.000000\n",
      "85) Owner State_NV                 0.000000\n",
      "86) Owner State_OH                 0.000000\n",
      "87) Owner State_TX                 0.000000\n",
      "88) Owner State_VA                 0.000000\n",
      "89) Owner State_WI                 0.000000\n",
      "90) Owner Type_Land Bank           0.000000\n",
      "91) Owner Type_Private             0.000000\n",
      "92) Owner Type_Public              0.000000\n",
      "93) Prop Class_CI                  0.000000\n",
      "94) Prop Class_RI                  0.000000\n",
      "95) Prop Class_RV                  0.000000\n",
      "96) Rental_No                      0.000000\n",
      "97) Rental_Yes                     0.000000\n",
      "98) Residential Building Style_CAPECOD 0.000000\n",
      "99) Residential Building Style_FOUR UNIT 0.000000\n",
      "100) Residential Building Style_ONE STORY 0.000000\n",
      "101) Residential Building Style_THREE UNIT 0.000000\n",
      "102) Residential Building Style_TWO STORY 0.000000\n",
      "103) Residential Building Style_TWO UNIT 0.000000\n"
     ]
    },
    {
     "ename": "IndexError",
     "evalue": "index 103 is out of bounds for axis 0 with size 103",
     "output_type": "error",
     "traceback": [
      "\u001b[0;31m---------------------------------------------------------------------------\u001b[0m",
      "\u001b[0;31mIndexError\u001b[0m                                Traceback (most recent call last)",
      "\u001b[0;32m<ipython-input-46-ebd38dc4c150>\u001b[0m in \u001b[0;36m<module>\u001b[0;34m()\u001b[0m\n\u001b[1;32m      5\u001b[0m \u001b[0mindices\u001b[0m \u001b[0;34m=\u001b[0m \u001b[0mnp\u001b[0m\u001b[0;34m.\u001b[0m\u001b[0margsort\u001b[0m\u001b[0;34m(\u001b[0m\u001b[0mimportances\u001b[0m\u001b[0;34m)\u001b[0m\u001b[0;34m[\u001b[0m\u001b[0;34m:\u001b[0m\u001b[0;34m:\u001b[0m\u001b[0;34m-\u001b[0m\u001b[0;36m1\u001b[0m\u001b[0;34m]\u001b[0m\u001b[0;34m\u001b[0m\u001b[0m\n\u001b[1;32m      6\u001b[0m \u001b[0;32mfor\u001b[0m \u001b[0mf\u001b[0m \u001b[0;32min\u001b[0m \u001b[0mrange\u001b[0m\u001b[0;34m(\u001b[0m\u001b[0mdf_preprocessed\u001b[0m\u001b[0;34m.\u001b[0m\u001b[0mshape\u001b[0m\u001b[0;34m[\u001b[0m\u001b[0;36m1\u001b[0m\u001b[0;34m]\u001b[0m\u001b[0;34m)\u001b[0m\u001b[0;34m:\u001b[0m\u001b[0;34m\u001b[0m\u001b[0m\n\u001b[0;32m----> 7\u001b[0;31m     \u001b[0mprint\u001b[0m\u001b[0;34m(\u001b[0m\u001b[0;34m\"%2d) %-*s %f\"\u001b[0m \u001b[0;34m%\u001b[0m \u001b[0;34m(\u001b[0m\u001b[0mf\u001b[0m \u001b[0;34m+\u001b[0m \u001b[0;36m1\u001b[0m\u001b[0;34m,\u001b[0m \u001b[0;36m30\u001b[0m\u001b[0;34m,\u001b[0m \u001b[0mfeat_labels\u001b[0m\u001b[0;34m[\u001b[0m\u001b[0mf\u001b[0m\u001b[0;34m]\u001b[0m\u001b[0;34m,\u001b[0m \u001b[0mimportances\u001b[0m\u001b[0;34m[\u001b[0m\u001b[0mindices\u001b[0m\u001b[0;34m[\u001b[0m\u001b[0mf\u001b[0m\u001b[0;34m]\u001b[0m\u001b[0;34m]\u001b[0m\u001b[0;34m)\u001b[0m\u001b[0;34m)\u001b[0m\u001b[0;34m\u001b[0m\u001b[0m\n\u001b[0m\u001b[1;32m      8\u001b[0m \u001b[0;34m\u001b[0m\u001b[0m\n\u001b[1;32m      9\u001b[0m \u001b[0;31m# plt.title('Feature Importances')\u001b[0m\u001b[0;34m\u001b[0m\u001b[0;34m\u001b[0m\u001b[0m\n",
      "\u001b[0;31mIndexError\u001b[0m: index 103 is out of bounds for axis 0 with size 103"
     ]
    }
   ],
   "source": [
    "feat_labels = df_preprocessed.columns\n",
    "\n",
    "rf_model = pipe_rf.steps[1][1]\n",
    "importances = rf_model.feature_importances_\n",
    "indices = np.argsort(importances)[::-1]\n",
    "for f in range(df_preprocessed.shape[1]):\n",
    "    print(\"%2d) %-*s %f\" % (f + 1, 30, feat_labels[f], importances[indices[f]]))\n",
    "\n",
    "# plt.title('Feature Importances')\n",
    "# plt.bar(range(df_preprocessed.shape[1]), \n",
    "#         importances[indices],\n",
    "#         color='lightblue', \n",
    "#         align='center')\n",
    "\n",
    "# plt.xticks(range(df_preprocessed.shape[1]), \n",
    "#            feat_labels[indices], rotation=90)\n",
    "# plt.xlim([-1, df_preprocessed.shape[1]])\n",
    "# plt.tight_layout()\n",
    "# plt.show()"
   ]
  }
 ],
 "metadata": {
  "anaconda-cloud": {},
  "kernelspec": {
   "display_name": "Python [Root]",
   "language": "python",
   "name": "Python [Root]"
  },
  "language_info": {
   "codemirror_mode": {
    "name": "ipython",
    "version": 3
   },
   "file_extension": ".py",
   "mimetype": "text/x-python",
   "name": "python",
   "nbconvert_exporter": "python",
   "pygments_lexer": "ipython3",
   "version": "3.5.1"
  }
 },
 "nbformat": 4,
 "nbformat_minor": 0
}
